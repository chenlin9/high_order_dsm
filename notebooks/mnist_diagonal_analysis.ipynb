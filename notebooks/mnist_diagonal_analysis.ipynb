{
 "cells": [
  {
   "cell_type": "code",
   "execution_count": null,
   "id": "prescription-syndrome",
   "metadata": {},
   "outputs": [],
   "source": [
    "import os\n",
    "import torchvision.utils as utils\n",
    "import sys\n",
    "sys.path.append(\"../\")\n",
    "from model.models import *\n",
    "from model.cond_refinenet_dilated import *\n",
    "from functions.loss import *\n",
    "from functions.utils import *\n",
    "\n",
    "import dataset\n",
    "import itertools\n",
    "import matplotlib.pyplot as plt\n",
    "\n",
    "from main import dict2namespace\n",
    "import yaml"
   ]
  },
  {
   "cell_type": "markdown",
   "id": "centered-people",
   "metadata": {},
   "source": [
    "Does not make sense to use diagonal matrix parameterized by UNet"
   ]
  },
  {
   "cell_type": "code",
   "execution_count": null,
   "id": "literary-celtic",
   "metadata": {},
   "outputs": [],
   "source": [
    "sigma = 0.5\n",
    "with open(\"../runs/logs/low_rank_mnist_0.5_rank50/config.yml\".format(sigma), 'r') as f:\n",
    "    config = yaml.load(f, Loader=yaml.FullLoader)\n",
    "config = dict2namespace(config)"
   ]
  },
  {
   "cell_type": "code",
   "execution_count": null,
   "id": "female-chest",
   "metadata": {},
   "outputs": [],
   "source": [
    "dim = 784\n",
    "device = \"cuda\"\n",
    "ckpt_path = \"../runs/logs/low_rank_mnist_0.5_rank50/ckpt\".format(sigma)\n",
    "\n",
    "model = LowRankS2(config)\n",
    "model = model.to(device)\n",
    "model = torch.nn.DataParallel(model) # moved to below\n",
    "state_dict = torch.load(os.path.join(ckpt_path, 'checkpoint.pth'), map_location=device)\n",
    "model.load_state_dict(state_dict[0])\n",
    "model.eval()\n",
    " \n",
    "# load s1 model\n",
    "s1 = CondRefineNetDilated(config).to(device)\n",
    "s1 = torch.nn.DataParallel(s1)\n",
    "s1.load_state_dict(state_dict[1])\n",
    "s1.eval()\n",
    "\n",
    "print(\"model loaded\")"
   ]
  },
  {
   "cell_type": "code",
   "execution_count": null,
   "id": "suited-meter",
   "metadata": {},
   "outputs": [],
   "source": [
    "import torchvision\n",
    "import torchvision.transforms as transforms\n",
    "transform = transforms.Compose([transforms.ToTensor(),])\n",
    "\n",
    "batch_size = 100\n",
    "channel = 1\n",
    "image_size = img = 28\n",
    "\n",
    "testset = torchvision.datasets.MNIST(root='../data/mnist', train=False,\n",
    "                                       download=True, transform=transform)\n",
    "testloader = torch.utils.data.DataLoader(testset, batch_size=batch_size,\n",
    "                                         shuffle=False, num_workers=2)"
   ]
  },
  {
   "cell_type": "code",
   "execution_count": null,
   "id": "infectious-addiction",
   "metadata": {},
   "outputs": [],
   "source": [
    "def imshow(img):\n",
    "    npimg = img.numpy()\n",
    "    plt.imshow(np.transpose(npimg, (1, 2, 0)))\n",
    "    plt.show()"
   ]
  },
  {
   "cell_type": "code",
   "execution_count": null,
   "id": "nasty-belle",
   "metadata": {},
   "outputs": [],
   "source": [
    "dataiter = iter(testloader)\n",
    "test_X, _ = dataiter.next()\n",
    "\n",
    "test_X = test_X.to(device)[:10]\n",
    "perturb_X = test_X + torch.randn_like(test_X) * sigma\n",
    "perturb_X = perturb_X.view(perturb_X.shape[0], -1)\n",
    "with torch.no_grad():\n",
    "    score_2 = model(perturb_X).detach().reshape(perturb_X.shape[0], image_size ** 2, image_size ** 2) # linear model setup\n",
    "    score_2 = score_2.reshape(perturb_X.shape[0], image_size ** 2, image_size ** 2)"
   ]
  },
  {
   "cell_type": "code",
   "execution_count": null,
   "id": "fossil-bradford",
   "metadata": {},
   "outputs": [],
   "source": [
    "print(test_X.shape)\n",
    "test_X = torch.tensor(test_X, dtype=torch.float).to(device).unsqueeze(dim=1)\n",
    "imshow(torchvision.utils.make_grid(test_X.reshape(-1, 1,28,28).to(\"cpu\"), nrow=20))\n",
    "\n",
    "perturb_X = test_X + torch.randn_like(test_X) * sigma\n",
    "\n",
    "perturb_X = perturb_X.view(perturb_X.shape[0], -1)\n",
    "with torch.no_grad():\n",
    "    score_2 = model(perturb_X).detach().reshape(perturb_X.shape[0], image_size ** 2, image_size ** 2) # linear model setup\n",
    "    score_2 = score_2.reshape(perturb_X.shape[0], image_size ** 2, image_size ** 2)"
   ]
  },
  {
   "cell_type": "code",
   "execution_count": null,
   "id": "initial-tamil",
   "metadata": {},
   "outputs": [],
   "source": [
    "with torch.no_grad():\n",
    "    covariance = score_2 * (sigma ** 4) + torch.eye(28 ** 2, device=device).unsqueeze(dim=0) * (sigma ** 2)\n",
    "covariance.shape"
   ]
  },
  {
   "cell_type": "code",
   "execution_count": null,
   "id": "streaming-jefferson",
   "metadata": {},
   "outputs": [],
   "source": [
    "cov_diagonal = torch.diagonal(covariance, dim1=-2, dim2=-1).view(covariance.shape[0], channel, image_size, image_size)\n",
    "plt.figure(figsize=(10,10))\n",
    "imshow(torchvision.utils.make_grid(cov_diagonal.reshape(-1, 1,28,28).to(\"cpu\")*10, nrow=len(cov_diagonal)))"
   ]
  },
  {
   "cell_type": "code",
   "execution_count": null,
   "id": "greatest-moore",
   "metadata": {},
   "outputs": [],
   "source": []
  }
 ],
 "metadata": {
  "kernelspec": {
   "display_name": "yang",
   "language": "python",
   "name": "yang"
  },
  "language_info": {
   "codemirror_mode": {
    "name": "ipython",
    "version": 3
   },
   "file_extension": ".py",
   "mimetype": "text/x-python",
   "name": "python",
   "nbconvert_exporter": "python",
   "pygments_lexer": "ipython3",
   "version": "3.7.3"
  }
 },
 "nbformat": 4,
 "nbformat_minor": 5
}
