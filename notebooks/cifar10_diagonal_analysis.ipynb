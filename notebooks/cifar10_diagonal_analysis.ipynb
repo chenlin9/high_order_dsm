{
 "cells": [
  {
   "cell_type": "code",
   "execution_count": null,
   "id": "amber-ghost",
   "metadata": {},
   "outputs": [],
   "source": [
    "import os\n",
    "import torchvision.utils as utils\n",
    "import sys\n",
    "\n",
    "sys.path.append(\"../\")\n",
    "from model.models import *\n",
    "from model.cond_refinenet_dilated import *\n",
    "from model.ema import EMAHelper\n",
    "\n",
    "from functions.loss import *\n",
    "from functions.utils import *\n",
    "\n",
    "import dataset\n",
    "import itertools\n",
    "import matplotlib.pyplot as plt"
   ]
  },
  {
   "cell_type": "markdown",
   "id": "weighted-mason",
   "metadata": {},
   "source": [
    "Does not make sense to perform PCA using diagonal matrix parameterized by UNet\n",
    "but can visualize diagonal and different noise scale directly"
   ]
  },
  {
   "cell_type": "code",
   "execution_count": null,
   "id": "united-belfast",
   "metadata": {},
   "outputs": [],
   "source": [
    "from main import dict2namespace\n",
    "import yaml\n",
    "\n",
    "sigma = 0.5\n",
    "with open(\"../runs/logs/diagonal_cifar10_0.5/config.yml\".format(sigma), 'r') as f:\n",
    "    config = yaml.load(f, Loader=yaml.FullLoader)\n",
    "config = dict2namespace(config)"
   ]
  },
  {
   "cell_type": "code",
   "execution_count": null,
   "id": "recovered-safety",
   "metadata": {},
   "outputs": [],
   "source": [
    "dim = 3 * 32 * 32\n",
    "config.device = device = \"cuda\"\n",
    "ckpt_path = \"../runs/logs/diagonal_cifar10_0.5/ckpt\".format(sigma)\n",
    "\n",
    "state_dict = torch.load(os.path.join(ckpt_path, 'checkpoint.pth'), map_location=device)\n",
    "model = CondRefineNetDilated(config).to(device)\n",
    "model = torch.nn.DataParallel(model)\n",
    "model.load_state_dict(state_dict[0])\n",
    " \n",
    "# load s1 model\n",
    "s1 = CondRefineNetDilated(config).to(device)\n",
    "s1 = torch.nn.DataParallel(s1)\n",
    "s1.load_state_dict(state_dict[1])\n",
    "\n",
    "if config.model.ema:\n",
    "    ema_helper = EMAHelper(mu=config.model.ema_rate)\n",
    "    ema_helper.register(model)\n",
    "    ema_helper_s1 = EMAHelper(mu=config.model.ema_rate)\n",
    "    ema_helper_s1.register(s1)\n",
    "\n",
    "if config.model.ema:\n",
    "    ema_helper.load_state_dict(state_dict[3])\n",
    "    ema_helper_s1.load_state_dict(state_dict[4])\n",
    "    \n",
    "if config.model.ema:\n",
    "    model = ema_helper.ema_copy(model)\n",
    "    s1 = ema_helper_s1.ema_copy(s1)\n",
    "else:\n",
    "    model = model\n",
    "    s1 = s1\n",
    "    \n",
    "model.eval()\n",
    "s1.eval()\n",
    "print(\"model loaded\")"
   ]
  },
  {
   "cell_type": "code",
   "execution_count": null,
   "id": "funky-discharge",
   "metadata": {},
   "outputs": [],
   "source": [
    "import torchvision\n",
    "import torchvision.transforms as transforms\n",
    "transform = transforms.Compose([transforms.ToTensor(),])\n",
    "\n",
    "batch_size = 36\n",
    "channel = 3\n",
    "image_size = img = 32\n",
    "\n",
    "testset = torchvision.datasets.CIFAR10(root='../data/cifar10', train=False,\n",
    "                                       download=True, transform=transform)\n",
    "testloader = torch.utils.data.DataLoader(testset, batch_size=batch_size,\n",
    "                                         shuffle=True, num_workers=2)\n"
   ]
  },
  {
   "cell_type": "code",
   "execution_count": null,
   "id": "surprising-sterling",
   "metadata": {},
   "outputs": [],
   "source": [
    "def imshow(img):\n",
    "    npimg = img.numpy()\n",
    "    plt.imshow(np.transpose(npimg, (1, 2, 0)))\n",
    "    plt.show()"
   ]
  },
  {
   "cell_type": "code",
   "execution_count": null,
   "id": "prescribed-enterprise",
   "metadata": {},
   "outputs": [],
   "source": [
    "dataiter = iter(testloader)\n",
    "test_X, _ = dataiter.next()"
   ]
  },
  {
   "cell_type": "code",
   "execution_count": null,
   "id": "respiratory-sandwich",
   "metadata": {},
   "outputs": [],
   "source": [
    "channel = 3\n",
    "perturb_X = test_X * 2. - 1.\n",
    "perturb_X = perturb_X + torch.randn_like(test_X) * sigma\n",
    "perturb_X = perturb_X.view(perturb_X.shape[0], -1)\n",
    "with torch.no_grad():\n",
    "    score_2 = model(perturb_X).detach().reshape(perturb_X.shape[0], channel, image_size, image_size)\n",
    "    covariance = score_2 * (sigma ** 4) + 1. * (sigma ** 2)\n",
    "    print(covariance.shape)"
   ]
  },
  {
   "cell_type": "code",
   "execution_count": null,
   "id": "imperial-requirement",
   "metadata": {},
   "outputs": [],
   "source": [
    "cov_diagonal = covariance.clone()\n",
    "cov_diagonal.max(), cov_diagonal.min()"
   ]
  },
  {
   "cell_type": "code",
   "execution_count": null,
   "id": "blond-sheep",
   "metadata": {},
   "outputs": [],
   "source": [
    "imshow(torchvision.utils.make_grid(test_X.to(\"cpu\"), nrow=6))"
   ]
  },
  {
   "cell_type": "code",
   "execution_count": null,
   "id": "through-fiction",
   "metadata": {},
   "outputs": [],
   "source": [
    "cov_channel = 1\n",
    "cov_ = cov_diagonal[:,cov_channel,:,:]\n",
    "img = torchvision.utils.make_grid(cov_, nrow=6, padding=2, pad_value=-1).to(\"cpu\") # 3 channels are the same, only take one of it\n",
    "img = img.reshape(6, 6, 32, 32).permute(0, 2, 1, 3).reshape(6*32, 6*32)\n",
    "npimg = img.numpy()\n",
    "plt.imshow(npimg, vmin=-0., vmax=0.1)"
   ]
  },
  {
   "cell_type": "code",
   "execution_count": null,
   "id": "connected-spell",
   "metadata": {},
   "outputs": [],
   "source": [
    "index = 0\n",
    "plt.axis('off')\n",
    "imshow(torchvision.utils.make_grid(test_X[index].to(\"cpu\")))"
   ]
  },
  {
   "cell_type": "code",
   "execution_count": null,
   "id": "blond-toronto",
   "metadata": {},
   "outputs": [],
   "source": [
    "plt.axis('off')\n",
    "imshow(torchvision.utils.make_grid((perturb_X[index]*0.5+0.5).reshape(3, 32, 32).to(\"cpu\")))"
   ]
  },
  {
   "cell_type": "code",
   "execution_count": null,
   "id": "allied-portugal",
   "metadata": {},
   "outputs": [],
   "source": [
    "cov_diagonal[index,1].cpu().max(), cov_diagonal[index,0].cpu().min()"
   ]
  },
  {
   "cell_type": "code",
   "execution_count": null,
   "id": "accurate-adaptation",
   "metadata": {},
   "outputs": [],
   "source": [
    "plt.axis('off')\n",
    "plt.imshow(cov_diagonal[index,cov_channel].cpu().reshape(32, 32).numpy(), vmin=-0., vmax=0.1)"
   ]
  },
  {
   "cell_type": "code",
   "execution_count": null,
   "id": "vertical-pleasure",
   "metadata": {},
   "outputs": [],
   "source": []
  },
  {
   "cell_type": "code",
   "execution_count": null,
   "id": "429b72c9-43bf-473a-b30a-6b1bcaf2c737",
   "metadata": {},
   "outputs": [],
   "source": []
  }
 ],
 "metadata": {
  "kernelspec": {
   "display_name": "yang",
   "language": "python",
   "name": "yang"
  },
  "language_info": {
   "codemirror_mode": {
    "name": "ipython",
    "version": 3
   },
   "file_extension": ".py",
   "mimetype": "text/x-python",
   "name": "python",
   "nbconvert_exporter": "python",
   "pygments_lexer": "ipython3",
   "version": "3.7.3"
  }
 },
 "nbformat": 4,
 "nbformat_minor": 5
}
